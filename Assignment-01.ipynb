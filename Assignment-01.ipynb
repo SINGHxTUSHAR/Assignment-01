{
 "cells": [
  {
   "cell_type": "markdown",
   "id": "02853fa9",
   "metadata": {},
   "source": [
    "Create one variable containing following type of data:"
   ]
  },
  {
   "cell_type": "code",
   "execution_count": 1,
   "id": "73e3f9f5",
   "metadata": {},
   "outputs": [],
   "source": [
    "# string variable\n",
    "p = \"TUSHAR\"\n",
    "\n",
    "#list variable\n",
    "l = [45,256.235,\"HIMANSHU\",5+9J]\n",
    "\n",
    "#float variable\n",
    "f = 58.2659\n",
    "\n",
    "#tuple variable\n",
    "t = (\"TUSHAR\",\"SINGH\",\"RAWAT\")"
   ]
  },
  {
   "cell_type": "code",
   "execution_count": null,
   "id": "b3de7136",
   "metadata": {},
   "outputs": [],
   "source": []
  },
  {
   "cell_type": "markdown",
   "id": "01647f09",
   "metadata": {},
   "source": [
    "DATA TYPE UNDERSTANDING"
   ]
  },
  {
   "cell_type": "code",
   "execution_count": 5,
   "id": "68bebbab",
   "metadata": {},
   "outputs": [
    {
     "data": {
      "text/plain": [
       "str"
      ]
     },
     "execution_count": 5,
     "metadata": {},
     "output_type": "execute_result"
    }
   ],
   "source": [
    "var1 = \" \"\n",
    "type(var1)"
   ]
  },
  {
   "cell_type": "code",
   "execution_count": 11,
   "id": "550a853e",
   "metadata": {},
   "outputs": [
    {
     "data": {
      "text/plain": [
       "str"
      ]
     },
     "execution_count": 11,
     "metadata": {},
     "output_type": "execute_result"
    }
   ],
   "source": [
    "var2 = '[ ds , ml , Python]'\n",
    "type(var2)"
   ]
  },
  {
   "cell_type": "code",
   "execution_count": 10,
   "id": "cc2ff93c",
   "metadata": {},
   "outputs": [
    {
     "data": {
      "text/plain": [
       "list"
      ]
     },
     "execution_count": 10,
     "metadata": {},
     "output_type": "execute_result"
    }
   ],
   "source": [
    "var3 = [ 'ds' , 'ml' , 'python' ]\n",
    "type(var3)"
   ]
  },
  {
   "cell_type": "code",
   "execution_count": 12,
   "id": "7bb3ddd1",
   "metadata": {},
   "outputs": [
    {
     "data": {
      "text/plain": [
       "int"
      ]
     },
     "execution_count": 12,
     "metadata": {},
     "output_type": "execute_result"
    }
   ],
   "source": [
    "var4 = 1\n",
    "type(var4)"
   ]
  },
  {
   "cell_type": "code",
   "execution_count": null,
   "id": "b5f614f4",
   "metadata": {},
   "outputs": [],
   "source": []
  },
  {
   "cell_type": "markdown",
   "id": "fd49da49",
   "metadata": {},
   "source": [
    "Explain the use of the following operators using an example:"
   ]
  },
  {
   "cell_type": "code",
   "execution_count": null,
   "id": "c4f0c523",
   "metadata": {},
   "outputs": [],
   "source": [
    "#      / : This is the division operator which gives quotient"
   ]
  },
  {
   "cell_type": "code",
   "execution_count": 13,
   "id": "b291ca24",
   "metadata": {},
   "outputs": [
    {
     "data": {
      "text/plain": [
       "5.0"
      ]
     },
     "execution_count": 13,
     "metadata": {},
     "output_type": "execute_result"
    }
   ],
   "source": [
    "45/9"
   ]
  },
  {
   "cell_type": "code",
   "execution_count": 14,
   "id": "e4156032",
   "metadata": {},
   "outputs": [],
   "source": [
    "#        % : This is the modulus operator which gives the remainder"
   ]
  },
  {
   "cell_type": "code",
   "execution_count": 15,
   "id": "709d1d1e",
   "metadata": {},
   "outputs": [
    {
     "data": {
      "text/plain": [
       "0"
      ]
     },
     "execution_count": 15,
     "metadata": {},
     "output_type": "execute_result"
    }
   ],
   "source": [
    "45%9"
   ]
  },
  {
   "cell_type": "code",
   "execution_count": 16,
   "id": "f6b57882",
   "metadata": {},
   "outputs": [],
   "source": [
    "#       //: This is the floor division operator which will round off to the closest integer"
   ]
  },
  {
   "cell_type": "code",
   "execution_count": 17,
   "id": "9d638187",
   "metadata": {},
   "outputs": [
    {
     "data": {
      "text/plain": [
       "6"
      ]
     },
     "execution_count": 17,
     "metadata": {},
     "output_type": "execute_result"
    }
   ],
   "source": [
    "45//7"
   ]
  },
  {
   "cell_type": "code",
   "execution_count": 18,
   "id": "3b05ce4b",
   "metadata": {},
   "outputs": [],
   "source": [
    "#      ** : this i sthe power operator "
   ]
  },
  {
   "cell_type": "code",
   "execution_count": 19,
   "id": "459c4ef6",
   "metadata": {},
   "outputs": [
    {
     "data": {
      "text/plain": [
       "8"
      ]
     },
     "execution_count": 19,
     "metadata": {},
     "output_type": "execute_result"
    }
   ],
   "source": [
    "2**3"
   ]
  },
  {
   "cell_type": "code",
   "execution_count": null,
   "id": "df2422df",
   "metadata": {},
   "outputs": [],
   "source": []
  },
  {
   "cell_type": "markdown",
   "id": "70460152",
   "metadata": {},
   "source": [
    " Create a list of length 10 of your choice containing multiple types of data. Using for loop print the\n",
    "element and its data type:"
   ]
  },
  {
   "cell_type": "code",
   "execution_count": 21,
   "id": "10ad4d3a",
   "metadata": {},
   "outputs": [
    {
     "name": "stdout",
     "output_type": "stream",
     "text": [
      "element is:45 and its type is:<class 'int'>\n",
      "element is:65.2 and its type is:<class 'float'>\n",
      "element is:TUSHAR and its type is:<class 'str'>\n",
      "element is:(65+98j) and its type is:<class 'complex'>\n",
      "element is:458 and its type is:<class 'int'>\n",
      "element is:12.365 and its type is:<class 'float'>\n",
      "element is:SINGH and its type is:<class 'str'>\n",
      "element is:A and its type is:<class 'str'>\n",
      "element is:1 and its type is:<class 'int'>\n",
      "element is:0 and its type is:<class 'int'>\n"
     ]
    }
   ],
   "source": [
    "lis = [45,65.2,\"TUSHAR\",65+98j,458,12.365,\"SINGH\",\"A\",1,0]\n",
    "\n",
    "for num in lis:\n",
    "    print(\"element is:{} and it's type is:{}\".format(num,type(num)))"
   ]
  },
  {
   "cell_type": "code",
   "execution_count": null,
   "id": "1d7c156a",
   "metadata": {},
   "outputs": [],
   "source": []
  },
  {
   "cell_type": "markdown",
   "id": "37b78232",
   "metadata": {},
   "source": [
    "Using a while loop, verify if the number A is purely divisible by number B and if so then how many\n",
    "times it can be divisible:"
   ]
  },
  {
   "cell_type": "code",
   "execution_count": null,
   "id": "bbbf71b4",
   "metadata": {},
   "outputs": [],
   "source": [
    "#taking the input from the user\n",
    "a = int(input(\"enter the value for A\"))\n",
    "b = int(input(\"enter the value for B\"))\n",
    "\n",
    "while a > b :\n",
    "    if(a%b==0):\n",
    "        print(\"A is purely divisible by B\")\n",
    "        print(\"A is divisible by B in {} time\".format(a/b))"
   ]
  },
  {
   "cell_type": "code",
   "execution_count": null,
   "id": "515320f1",
   "metadata": {},
   "outputs": [],
   "source": []
  },
  {
   "cell_type": "code",
   "execution_count": null,
   "id": "824dc724",
   "metadata": {},
   "outputs": [],
   "source": []
  },
  {
   "cell_type": "markdown",
   "id": "626c6269",
   "metadata": {},
   "source": [
    "Create a list containing 25 int type data. Using for loop and if-else condition print if the element is\n",
    "divisible by 3 or not."
   ]
  },
  {
   "cell_type": "code",
   "execution_count": 2,
   "id": "680d3f7d",
   "metadata": {},
   "outputs": [
    {
     "name": "stdout",
     "output_type": "stream",
     "text": [
      "1 is not divisible by 3\n",
      "2 is not divisible by 3\n",
      "3 is divisible by 3\n",
      "4 is not divisible by 3\n",
      "5 is not divisible by 3\n",
      "6 is divisible by 3\n",
      "7 is not divisible by 3\n",
      "8 is not divisible by 3\n",
      "9 is divisible by 3\n",
      "10 is not divisible by 3\n",
      "11 is not divisible by 3\n",
      "12 is divisible by 3\n",
      "13 is not divisible by 3\n",
      "14 is not divisible by 3\n",
      "15 is divisible by 3\n",
      "16 is not divisible by 3\n",
      "17 is not divisible by 3\n",
      "18 is divisible by 3\n",
      "19 is not divisible by 3\n",
      "20 is not divisible by 3\n",
      "21 is divisible by 3\n",
      "22 is not divisible by 3\n",
      "23 is not divisible by 3\n",
      "24 is divisible by 3\n",
      "25 is not divisible by 3\n"
     ]
    }
   ],
   "source": [
    "pqr = [1,2,3,4,5,6,7,8,9,10,11,12,13,14,15,16,17,18,19,20,21,22,23,24,25]\n",
    "\n",
    "for num in pqr:\n",
    "    if num%3==0:\n",
    "        print(\"{} is divisible by 3\".format(num))\n",
    "    else:\n",
    "        print(\"{} is not divisible by 3\".format(num))\n",
    "    "
   ]
  },
  {
   "cell_type": "code",
   "execution_count": null,
   "id": "650a20f9",
   "metadata": {},
   "outputs": [],
   "source": []
  },
  {
   "cell_type": "code",
   "execution_count": null,
   "id": "08b792cb",
   "metadata": {},
   "outputs": [],
   "source": []
  },
  {
   "cell_type": "markdown",
   "id": "7bbfde19",
   "metadata": {},
   "source": [
    " What do you understand about mutable and immutable data types? Give examples for both showing\n",
    "this property:"
   ]
  },
  {
   "cell_type": "code",
   "execution_count": null,
   "id": "53444d6b",
   "metadata": {},
   "outputs": [],
   "source": [
    "#        Mutable: simply means changable \n",
    "#        Immutable: simply means cannot change the data item"
   ]
  },
  {
   "cell_type": "code",
   "execution_count": 3,
   "id": "526e0950",
   "metadata": {},
   "outputs": [
    {
     "data": {
      "text/plain": [
       "[1,\n",
       " 2,\n",
       " 3,\n",
       " 4,\n",
       " 5,\n",
       " 6,\n",
       " 7,\n",
       " 8,\n",
       " 9,\n",
       " 10,\n",
       " 11,\n",
       " 12,\n",
       " 13,\n",
       " 14,\n",
       " 15,\n",
       " 16,\n",
       " 17,\n",
       " 18,\n",
       " 19,\n",
       " 20,\n",
       " 21,\n",
       " 22,\n",
       " 23,\n",
       " 24,\n",
       " 25]"
      ]
     },
     "execution_count": 3,
     "metadata": {},
     "output_type": "execute_result"
    }
   ],
   "source": [
    "#Mutable example could be list:\n",
    "pqr"
   ]
  },
  {
   "cell_type": "code",
   "execution_count": 4,
   "id": "e63d3dc9",
   "metadata": {},
   "outputs": [],
   "source": [
    "#changing the pqr list at 1st position\n",
    "pqr[1] = 1000"
   ]
  },
  {
   "cell_type": "code",
   "execution_count": 5,
   "id": "cbd10c75",
   "metadata": {},
   "outputs": [
    {
     "data": {
      "text/plain": [
       "[1,\n",
       " 1000,\n",
       " 3,\n",
       " 4,\n",
       " 5,\n",
       " 6,\n",
       " 7,\n",
       " 8,\n",
       " 9,\n",
       " 10,\n",
       " 11,\n",
       " 12,\n",
       " 13,\n",
       " 14,\n",
       " 15,\n",
       " 16,\n",
       " 17,\n",
       " 18,\n",
       " 19,\n",
       " 20,\n",
       " 21,\n",
       " 22,\n",
       " 23,\n",
       " 24,\n",
       " 25]"
      ]
     },
     "execution_count": 5,
     "metadata": {},
     "output_type": "execute_result"
    }
   ],
   "source": [
    "pqr"
   ]
  },
  {
   "cell_type": "code",
   "execution_count": 6,
   "id": "31ba9907",
   "metadata": {},
   "outputs": [],
   "source": [
    "#Immutable example could be tuples\n",
    "\n",
    "tup = (\"TUSHAR\",\"SINGH\",\"RAWAT\")"
   ]
  },
  {
   "cell_type": "code",
   "execution_count": 7,
   "id": "c25a18df",
   "metadata": {},
   "outputs": [
    {
     "data": {
      "text/plain": [
       "('TUSHAR', 'SINGH', 'RAWAT')"
      ]
     },
     "execution_count": 7,
     "metadata": {},
     "output_type": "execute_result"
    }
   ],
   "source": [
    "tup"
   ]
  },
  {
   "cell_type": "code",
   "execution_count": 8,
   "id": "e8c7c9e3",
   "metadata": {},
   "outputs": [
    {
     "ename": "TypeError",
     "evalue": "'tuple' object does not support item assignment",
     "output_type": "error",
     "traceback": [
      "\u001b[1;31m---------------------------------------------------------------------------\u001b[0m",
      "\u001b[1;31mTypeError\u001b[0m                                 Traceback (most recent call last)",
      "Input \u001b[1;32mIn [8]\u001b[0m, in \u001b[0;36m<cell line: 1>\u001b[1;34m()\u001b[0m\n\u001b[1;32m----> 1\u001b[0m tup[\u001b[38;5;241m0\u001b[39m] \u001b[38;5;241m=\u001b[39m \u001b[38;5;124m\"\u001b[39m\u001b[38;5;124mHEMU\u001b[39m\u001b[38;5;124m\"\u001b[39m\n",
      "\u001b[1;31mTypeError\u001b[0m: 'tuple' object does not support item assignment"
     ]
    }
   ],
   "source": [
    "tup[0] = \"HEMU\"\n",
    "# error means we cannot change the data items."
   ]
  },
  {
   "cell_type": "code",
   "execution_count": null,
   "id": "75f7b856",
   "metadata": {},
   "outputs": [],
   "source": []
  }
 ],
 "metadata": {
  "kernelspec": {
   "display_name": "Python 3 (ipykernel)",
   "language": "python",
   "name": "python3"
  },
  "language_info": {
   "codemirror_mode": {
    "name": "ipython",
    "version": 3
   },
   "file_extension": ".py",
   "mimetype": "text/x-python",
   "name": "python",
   "nbconvert_exporter": "python",
   "pygments_lexer": "ipython3",
   "version": "3.9.12"
  }
 },
 "nbformat": 4,
 "nbformat_minor": 5
}
